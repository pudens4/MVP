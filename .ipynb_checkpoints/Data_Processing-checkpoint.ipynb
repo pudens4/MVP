{
 "cells": [
  {
   "cell_type": "code",
   "execution_count": 1,
   "id": "561aa544",
   "metadata": {},
   "outputs": [],
   "source": [
    "import os \n",
    "import pandas as pd \n",
    "import numpy as np\n",
    "import datetime as dt"
   ]
  },
  {
   "cell_type": "code",
   "execution_count": 2,
   "id": "c3d7265e",
   "metadata": {},
   "outputs": [],
   "source": [
    "# load raw data \n",
    "raw_data = os.path.join('Resources', 'ASA_All_NBA_Raw_Data_copy.csv')"
   ]
  },
  {
   "cell_type": "code",
   "execution_count": 3,
   "id": "b8757155",
   "metadata": {},
   "outputs": [
    {
     "data": {
      "text/html": [
       "<div>\n",
       "<style scoped>\n",
       "    .dataframe tbody tr th:only-of-type {\n",
       "        vertical-align: middle;\n",
       "    }\n",
       "\n",
       "    .dataframe tbody tr th {\n",
       "        vertical-align: top;\n",
       "    }\n",
       "\n",
       "    .dataframe thead th {\n",
       "        text-align: right;\n",
       "    }\n",
       "</style>\n",
       "<table border=\"1\" class=\"dataframe\">\n",
       "  <thead>\n",
       "    <tr style=\"text-align: right;\">\n",
       "      <th></th>\n",
       "      <th>game_id</th>\n",
       "      <th>game_date</th>\n",
       "      <th>Team_Abbrev</th>\n",
       "      <th>Team_Score</th>\n",
       "      <th>Inactives</th>\n",
       "      <th>Opponent_Abbrev</th>\n",
       "      <th>Opponent_Score</th>\n",
       "      <th>player</th>\n",
       "      <th>player_id</th>\n",
       "      <th>mp</th>\n",
       "      <th>trb</th>\n",
       "      <th>ast</th>\n",
       "      <th>pts</th>\n",
       "      <th>plus_minus</th>\n",
       "      <th>did_not_play</th>\n",
       "      <th>is_inactive</th>\n",
       "      <th>usg_pct</th>\n",
       "      <th>season</th>\n",
       "      <th>minutes</th>\n",
       "    </tr>\n",
       "  </thead>\n",
       "  <tbody>\n",
       "    <tr>\n",
       "      <th>0</th>\n",
       "      <td>202012220BRK</td>\n",
       "      <td>12/22/20</td>\n",
       "      <td>GSW</td>\n",
       "      <td>99</td>\n",
       "      <td>Draymond Green, Nico Mannion, Alen Smailagic, ...</td>\n",
       "      <td>BRK</td>\n",
       "      <td>125</td>\n",
       "      <td>Andrew Wiggins</td>\n",
       "      <td>wiggian01</td>\n",
       "      <td>31:14:00</td>\n",
       "      <td>2</td>\n",
       "      <td>1</td>\n",
       "      <td>13</td>\n",
       "      <td>-28</td>\n",
       "      <td>0</td>\n",
       "      <td>0</td>\n",
       "      <td>26.3</td>\n",
       "      <td>2021</td>\n",
       "      <td>31.233333</td>\n",
       "    </tr>\n",
       "    <tr>\n",
       "      <th>1</th>\n",
       "      <td>202012220BRK</td>\n",
       "      <td>12/22/20</td>\n",
       "      <td>GSW</td>\n",
       "      <td>99</td>\n",
       "      <td>Draymond Green, Nico Mannion, Alen Smailagic, ...</td>\n",
       "      <td>BRK</td>\n",
       "      <td>125</td>\n",
       "      <td>Stephen Curry</td>\n",
       "      <td>curryst01</td>\n",
       "      <td>30:19:00</td>\n",
       "      <td>4</td>\n",
       "      <td>10</td>\n",
       "      <td>20</td>\n",
       "      <td>-23</td>\n",
       "      <td>0</td>\n",
       "      <td>0</td>\n",
       "      <td>32.1</td>\n",
       "      <td>2021</td>\n",
       "      <td>30.316667</td>\n",
       "    </tr>\n",
       "    <tr>\n",
       "      <th>2</th>\n",
       "      <td>202012220BRK</td>\n",
       "      <td>12/22/20</td>\n",
       "      <td>GSW</td>\n",
       "      <td>99</td>\n",
       "      <td>Draymond Green, Nico Mannion, Alen Smailagic, ...</td>\n",
       "      <td>BRK</td>\n",
       "      <td>125</td>\n",
       "      <td>Kelly Oubre</td>\n",
       "      <td>oubreke01</td>\n",
       "      <td>25:39:00</td>\n",
       "      <td>7</td>\n",
       "      <td>2</td>\n",
       "      <td>6</td>\n",
       "      <td>-28</td>\n",
       "      <td>0</td>\n",
       "      <td>0</td>\n",
       "      <td>25.0</td>\n",
       "      <td>2021</td>\n",
       "      <td>25.650000</td>\n",
       "    </tr>\n",
       "    <tr>\n",
       "      <th>3</th>\n",
       "      <td>202012220BRK</td>\n",
       "      <td>12/22/20</td>\n",
       "      <td>GSW</td>\n",
       "      <td>99</td>\n",
       "      <td>Draymond Green, Nico Mannion, Alen Smailagic, ...</td>\n",
       "      <td>BRK</td>\n",
       "      <td>125</td>\n",
       "      <td>James Wiseman</td>\n",
       "      <td>wisemja01</td>\n",
       "      <td>24:17:00</td>\n",
       "      <td>6</td>\n",
       "      <td>0</td>\n",
       "      <td>19</td>\n",
       "      <td>-10</td>\n",
       "      <td>0</td>\n",
       "      <td>0</td>\n",
       "      <td>27.2</td>\n",
       "      <td>2021</td>\n",
       "      <td>24.283333</td>\n",
       "    </tr>\n",
       "    <tr>\n",
       "      <th>4</th>\n",
       "      <td>202012220BRK</td>\n",
       "      <td>12/22/20</td>\n",
       "      <td>GSW</td>\n",
       "      <td>99</td>\n",
       "      <td>Draymond Green, Nico Mannion, Alen Smailagic, ...</td>\n",
       "      <td>BRK</td>\n",
       "      <td>125</td>\n",
       "      <td>Eric Paschall</td>\n",
       "      <td>pascher01</td>\n",
       "      <td>21:33</td>\n",
       "      <td>1</td>\n",
       "      <td>0</td>\n",
       "      <td>6</td>\n",
       "      <td>-28</td>\n",
       "      <td>0</td>\n",
       "      <td>0</td>\n",
       "      <td>12.1</td>\n",
       "      <td>2021</td>\n",
       "      <td>21.550000</td>\n",
       "    </tr>\n",
       "  </tbody>\n",
       "</table>\n",
       "</div>"
      ],
      "text/plain": [
       "        game_id game_date Team_Abbrev  Team_Score  \\\n",
       "0  202012220BRK  12/22/20         GSW          99   \n",
       "1  202012220BRK  12/22/20         GSW          99   \n",
       "2  202012220BRK  12/22/20         GSW          99   \n",
       "3  202012220BRK  12/22/20         GSW          99   \n",
       "4  202012220BRK  12/22/20         GSW          99   \n",
       "\n",
       "                                           Inactives Opponent_Abbrev  \\\n",
       "0  Draymond Green, Nico Mannion, Alen Smailagic, ...             BRK   \n",
       "1  Draymond Green, Nico Mannion, Alen Smailagic, ...             BRK   \n",
       "2  Draymond Green, Nico Mannion, Alen Smailagic, ...             BRK   \n",
       "3  Draymond Green, Nico Mannion, Alen Smailagic, ...             BRK   \n",
       "4  Draymond Green, Nico Mannion, Alen Smailagic, ...             BRK   \n",
       "\n",
       "   Opponent_Score          player  player_id        mp  trb  ast  pts  \\\n",
       "0             125  Andrew Wiggins  wiggian01  31:14:00    2    1   13   \n",
       "1             125   Stephen Curry  curryst01  30:19:00    4   10   20   \n",
       "2             125     Kelly Oubre  oubreke01  25:39:00    7    2    6   \n",
       "3             125   James Wiseman  wisemja01  24:17:00    6    0   19   \n",
       "4             125   Eric Paschall  pascher01     21:33    1    0    6   \n",
       "\n",
       "   plus_minus  did_not_play  is_inactive  usg_pct  season    minutes  \n",
       "0         -28             0            0     26.3    2021  31.233333  \n",
       "1         -23             0            0     32.1    2021  30.316667  \n",
       "2         -28             0            0     25.0    2021  25.650000  \n",
       "3         -10             0            0     27.2    2021  24.283333  \n",
       "4         -28             0            0     12.1    2021  21.550000  "
      ]
     },
     "execution_count": 3,
     "metadata": {},
     "output_type": "execute_result"
    }
   ],
   "source": [
    "# read raw data\n",
    "read_raw_data = pd.read_csv(raw_data)\n",
    "read_raw_data.head()"
   ]
  },
  {
   "cell_type": "code",
   "execution_count": 4,
   "id": "981297e5",
   "metadata": {},
   "outputs": [],
   "source": [
    "# store the data inside a variable for processing\n",
    "raw_analysis = read_raw_data"
   ]
  },
  {
   "cell_type": "code",
   "execution_count": 5,
   "id": "664336c5",
   "metadata": {},
   "outputs": [
    {
     "name": "stdout",
     "output_type": "stream",
     "text": [
      "<class 'pandas.core.frame.DataFrame'>\n",
      "RangeIndex: 42118 entries, 0 to 42117\n",
      "Data columns (total 19 columns):\n",
      " #   Column           Non-Null Count  Dtype  \n",
      "---  ------           --------------  -----  \n",
      " 0   game_id          42118 non-null  object \n",
      " 1   game_date        42118 non-null  object \n",
      " 2   Team_Abbrev      42118 non-null  object \n",
      " 3   Team_Score       42118 non-null  int64  \n",
      " 4   Inactives        42091 non-null  object \n",
      " 5   Opponent_Abbrev  42118 non-null  object \n",
      " 6   Opponent_Score   42118 non-null  int64  \n",
      " 7   player           42118 non-null  object \n",
      " 8   player_id        42118 non-null  object \n",
      " 9   mp               42118 non-null  object \n",
      " 10  trb              42118 non-null  int64  \n",
      " 11  ast              42118 non-null  int64  \n",
      " 12  pts              42118 non-null  int64  \n",
      " 13  plus_minus       42118 non-null  int64  \n",
      " 14  did_not_play     42118 non-null  int64  \n",
      " 15  is_inactive      42118 non-null  int64  \n",
      " 16  usg_pct          42118 non-null  float64\n",
      " 17  season           42118 non-null  int64  \n",
      " 18  minutes          42118 non-null  float64\n",
      "dtypes: float64(2), int64(9), object(8)\n",
      "memory usage: 6.1+ MB\n"
     ]
    }
   ],
   "source": [
    "raw_analysis.info()"
   ]
  },
  {
   "cell_type": "code",
   "execution_count": 6,
   "id": "23692f25",
   "metadata": {},
   "outputs": [
    {
     "data": {
      "text/plain": [
       "'\\ngame date to date time\\n\\nmp or minutes played to minutes \\n\\n\\n'"
      ]
     },
     "execution_count": 6,
     "metadata": {},
     "output_type": "execute_result"
    }
   ],
   "source": [
    "# change data types \n",
    "'''\n",
    "game date to date time\n",
    "\n",
    "mp or minutes played to minutes \n",
    "\n",
    "\n",
    "'''"
   ]
  },
  {
   "cell_type": "code",
   "execution_count": 7,
   "id": "26e336ea",
   "metadata": {},
   "outputs": [],
   "source": [
    "raw_analysis['game_date'] = raw_analysis['game_date'].astype('datetime64[ns]')"
   ]
  },
  {
   "cell_type": "code",
   "execution_count": 8,
   "id": "45ffa7d2",
   "metadata": {},
   "outputs": [
    {
     "name": "stdout",
     "output_type": "stream",
     "text": [
      "<class 'pandas.core.frame.DataFrame'>\n",
      "RangeIndex: 42118 entries, 0 to 42117\n",
      "Data columns (total 19 columns):\n",
      " #   Column           Non-Null Count  Dtype         \n",
      "---  ------           --------------  -----         \n",
      " 0   game_id          42118 non-null  object        \n",
      " 1   game_date        42118 non-null  datetime64[ns]\n",
      " 2   Team_Abbrev      42118 non-null  object        \n",
      " 3   Team_Score       42118 non-null  int64         \n",
      " 4   Inactives        42091 non-null  object        \n",
      " 5   Opponent_Abbrev  42118 non-null  object        \n",
      " 6   Opponent_Score   42118 non-null  int64         \n",
      " 7   player           42118 non-null  object        \n",
      " 8   player_id        42118 non-null  object        \n",
      " 9   mp               42118 non-null  object        \n",
      " 10  trb              42118 non-null  int64         \n",
      " 11  ast              42118 non-null  int64         \n",
      " 12  pts              42118 non-null  int64         \n",
      " 13  plus_minus       42118 non-null  int64         \n",
      " 14  did_not_play     42118 non-null  int64         \n",
      " 15  is_inactive      42118 non-null  int64         \n",
      " 16  usg_pct          42118 non-null  float64       \n",
      " 17  season           42118 non-null  int64         \n",
      " 18  minutes          42118 non-null  float64       \n",
      "dtypes: datetime64[ns](1), float64(2), int64(9), object(7)\n",
      "memory usage: 6.1+ MB\n"
     ]
    }
   ],
   "source": [
    "raw_analysis.info()"
   ]
  },
  {
   "cell_type": "code",
   "execution_count": 9,
   "id": "05a2859e",
   "metadata": {},
   "outputs": [],
   "source": [
    "# split mp or minutes played to convert into minutes \n",
    "mp = raw_analysis['mp'].str.split(':', expand=True)"
   ]
  },
  {
   "cell_type": "code",
   "execution_count": 10,
   "id": "c52370b1",
   "metadata": {},
   "outputs": [
    {
     "data": {
      "text/html": [
       "<div>\n",
       "<style scoped>\n",
       "    .dataframe tbody tr th:only-of-type {\n",
       "        vertical-align: middle;\n",
       "    }\n",
       "\n",
       "    .dataframe tbody tr th {\n",
       "        vertical-align: top;\n",
       "    }\n",
       "\n",
       "    .dataframe thead th {\n",
       "        text-align: right;\n",
       "    }\n",
       "</style>\n",
       "<table border=\"1\" class=\"dataframe\">\n",
       "  <thead>\n",
       "    <tr style=\"text-align: right;\">\n",
       "      <th></th>\n",
       "      <th>0</th>\n",
       "      <th>1</th>\n",
       "      <th>2</th>\n",
       "    </tr>\n",
       "  </thead>\n",
       "  <tbody>\n",
       "    <tr>\n",
       "      <th>0</th>\n",
       "      <td>31</td>\n",
       "      <td>14</td>\n",
       "      <td>00</td>\n",
       "    </tr>\n",
       "    <tr>\n",
       "      <th>1</th>\n",
       "      <td>30</td>\n",
       "      <td>19</td>\n",
       "      <td>00</td>\n",
       "    </tr>\n",
       "    <tr>\n",
       "      <th>2</th>\n",
       "      <td>25</td>\n",
       "      <td>39</td>\n",
       "      <td>00</td>\n",
       "    </tr>\n",
       "    <tr>\n",
       "      <th>3</th>\n",
       "      <td>24</td>\n",
       "      <td>17</td>\n",
       "      <td>00</td>\n",
       "    </tr>\n",
       "    <tr>\n",
       "      <th>4</th>\n",
       "      <td>21</td>\n",
       "      <td>33</td>\n",
       "      <td>None</td>\n",
       "    </tr>\n",
       "  </tbody>\n",
       "</table>\n",
       "</div>"
      ],
      "text/plain": [
       "    0   1     2\n",
       "0  31  14    00\n",
       "1  30  19    00\n",
       "2  25  39    00\n",
       "3  24  17    00\n",
       "4  21  33  None"
      ]
     },
     "execution_count": 10,
     "metadata": {},
     "output_type": "execute_result"
    }
   ],
   "source": [
    "mp.head()"
   ]
  },
  {
   "cell_type": "code",
   "execution_count": 11,
   "id": "22733393",
   "metadata": {},
   "outputs": [
    {
     "name": "stdout",
     "output_type": "stream",
     "text": [
      "<class 'pandas.core.frame.DataFrame'>\n",
      "RangeIndex: 42118 entries, 0 to 42117\n",
      "Data columns (total 3 columns):\n",
      " #   Column  Non-Null Count  Dtype \n",
      "---  ------  --------------  ----- \n",
      " 0   0       42118 non-null  object\n",
      " 1   1       42118 non-null  object\n",
      " 2   2       16662 non-null  object\n",
      "dtypes: object(3)\n",
      "memory usage: 987.3+ KB\n"
     ]
    }
   ],
   "source": [
    "mp.info()"
   ]
  },
  {
   "cell_type": "code",
   "execution_count": 12,
   "id": "e041444d",
   "metadata": {},
   "outputs": [],
   "source": [
    "mp = mp.drop(columns=2)"
   ]
  },
  {
   "cell_type": "code",
   "execution_count": 13,
   "id": "dc74f9c9",
   "metadata": {},
   "outputs": [
    {
     "data": {
      "text/html": [
       "<div>\n",
       "<style scoped>\n",
       "    .dataframe tbody tr th:only-of-type {\n",
       "        vertical-align: middle;\n",
       "    }\n",
       "\n",
       "    .dataframe tbody tr th {\n",
       "        vertical-align: top;\n",
       "    }\n",
       "\n",
       "    .dataframe thead th {\n",
       "        text-align: right;\n",
       "    }\n",
       "</style>\n",
       "<table border=\"1\" class=\"dataframe\">\n",
       "  <thead>\n",
       "    <tr style=\"text-align: right;\">\n",
       "      <th></th>\n",
       "      <th>0</th>\n",
       "      <th>1</th>\n",
       "    </tr>\n",
       "  </thead>\n",
       "  <tbody>\n",
       "    <tr>\n",
       "      <th>0</th>\n",
       "      <td>31</td>\n",
       "      <td>14</td>\n",
       "    </tr>\n",
       "    <tr>\n",
       "      <th>1</th>\n",
       "      <td>30</td>\n",
       "      <td>19</td>\n",
       "    </tr>\n",
       "    <tr>\n",
       "      <th>2</th>\n",
       "      <td>25</td>\n",
       "      <td>39</td>\n",
       "    </tr>\n",
       "    <tr>\n",
       "      <th>3</th>\n",
       "      <td>24</td>\n",
       "      <td>17</td>\n",
       "    </tr>\n",
       "    <tr>\n",
       "      <th>4</th>\n",
       "      <td>21</td>\n",
       "      <td>33</td>\n",
       "    </tr>\n",
       "  </tbody>\n",
       "</table>\n",
       "</div>"
      ],
      "text/plain": [
       "    0   1\n",
       "0  31  14\n",
       "1  30  19\n",
       "2  25  39\n",
       "3  24  17\n",
       "4  21  33"
      ]
     },
     "execution_count": 13,
     "metadata": {},
     "output_type": "execute_result"
    }
   ],
   "source": [
    "mp.head()"
   ]
  },
  {
   "cell_type": "code",
   "execution_count": 14,
   "id": "999dc97e",
   "metadata": {},
   "outputs": [],
   "source": [
    "mp[\"min\"] = mp[0].map(str) + ':' + mp[1].map(str)"
   ]
  },
  {
   "cell_type": "code",
   "execution_count": 15,
   "id": "60c665d1",
   "metadata": {},
   "outputs": [],
   "source": [
    "mp = mp.drop(columns=0)"
   ]
  },
  {
   "cell_type": "code",
   "execution_count": 16,
   "id": "201549ff",
   "metadata": {},
   "outputs": [],
   "source": [
    "mp = mp.drop(columns=1)"
   ]
  },
  {
   "cell_type": "code",
   "execution_count": 17,
   "id": "0284fa29",
   "metadata": {},
   "outputs": [],
   "source": [
    "raw_analysis['mp'] = mp['min']"
   ]
  },
  {
   "cell_type": "code",
   "execution_count": 18,
   "id": "097cba13",
   "metadata": {},
   "outputs": [
    {
     "data": {
      "text/html": [
       "<div>\n",
       "<style scoped>\n",
       "    .dataframe tbody tr th:only-of-type {\n",
       "        vertical-align: middle;\n",
       "    }\n",
       "\n",
       "    .dataframe tbody tr th {\n",
       "        vertical-align: top;\n",
       "    }\n",
       "\n",
       "    .dataframe thead th {\n",
       "        text-align: right;\n",
       "    }\n",
       "</style>\n",
       "<table border=\"1\" class=\"dataframe\">\n",
       "  <thead>\n",
       "    <tr style=\"text-align: right;\">\n",
       "      <th></th>\n",
       "      <th>game_id</th>\n",
       "      <th>game_date</th>\n",
       "      <th>Team_Abbrev</th>\n",
       "      <th>Team_Score</th>\n",
       "      <th>Inactives</th>\n",
       "      <th>Opponent_Abbrev</th>\n",
       "      <th>Opponent_Score</th>\n",
       "      <th>player</th>\n",
       "      <th>player_id</th>\n",
       "      <th>mp</th>\n",
       "      <th>trb</th>\n",
       "      <th>ast</th>\n",
       "      <th>pts</th>\n",
       "      <th>plus_minus</th>\n",
       "      <th>did_not_play</th>\n",
       "      <th>is_inactive</th>\n",
       "      <th>usg_pct</th>\n",
       "      <th>season</th>\n",
       "      <th>minutes</th>\n",
       "    </tr>\n",
       "  </thead>\n",
       "  <tbody>\n",
       "    <tr>\n",
       "      <th>0</th>\n",
       "      <td>202012220BRK</td>\n",
       "      <td>2020-12-22</td>\n",
       "      <td>GSW</td>\n",
       "      <td>99</td>\n",
       "      <td>Draymond Green, Nico Mannion, Alen Smailagic, ...</td>\n",
       "      <td>BRK</td>\n",
       "      <td>125</td>\n",
       "      <td>Andrew Wiggins</td>\n",
       "      <td>wiggian01</td>\n",
       "      <td>31:14</td>\n",
       "      <td>2</td>\n",
       "      <td>1</td>\n",
       "      <td>13</td>\n",
       "      <td>-28</td>\n",
       "      <td>0</td>\n",
       "      <td>0</td>\n",
       "      <td>26.3</td>\n",
       "      <td>2021</td>\n",
       "      <td>31.233333</td>\n",
       "    </tr>\n",
       "    <tr>\n",
       "      <th>1</th>\n",
       "      <td>202012220BRK</td>\n",
       "      <td>2020-12-22</td>\n",
       "      <td>GSW</td>\n",
       "      <td>99</td>\n",
       "      <td>Draymond Green, Nico Mannion, Alen Smailagic, ...</td>\n",
       "      <td>BRK</td>\n",
       "      <td>125</td>\n",
       "      <td>Stephen Curry</td>\n",
       "      <td>curryst01</td>\n",
       "      <td>30:19</td>\n",
       "      <td>4</td>\n",
       "      <td>10</td>\n",
       "      <td>20</td>\n",
       "      <td>-23</td>\n",
       "      <td>0</td>\n",
       "      <td>0</td>\n",
       "      <td>32.1</td>\n",
       "      <td>2021</td>\n",
       "      <td>30.316667</td>\n",
       "    </tr>\n",
       "  </tbody>\n",
       "</table>\n",
       "</div>"
      ],
      "text/plain": [
       "        game_id  game_date Team_Abbrev  Team_Score  \\\n",
       "0  202012220BRK 2020-12-22         GSW          99   \n",
       "1  202012220BRK 2020-12-22         GSW          99   \n",
       "\n",
       "                                           Inactives Opponent_Abbrev  \\\n",
       "0  Draymond Green, Nico Mannion, Alen Smailagic, ...             BRK   \n",
       "1  Draymond Green, Nico Mannion, Alen Smailagic, ...             BRK   \n",
       "\n",
       "   Opponent_Score          player  player_id     mp  trb  ast  pts  \\\n",
       "0             125  Andrew Wiggins  wiggian01  31:14    2    1   13   \n",
       "1             125   Stephen Curry  curryst01  30:19    4   10   20   \n",
       "\n",
       "   plus_minus  did_not_play  is_inactive  usg_pct  season    minutes  \n",
       "0         -28             0            0     26.3    2021  31.233333  \n",
       "1         -23             0            0     32.1    2021  30.316667  "
      ]
     },
     "execution_count": 18,
     "metadata": {},
     "output_type": "execute_result"
    }
   ],
   "source": [
    "raw_analysis.head(2)"
   ]
  },
  {
   "cell_type": "code",
   "execution_count": 19,
   "id": "3ee91b70",
   "metadata": {},
   "outputs": [
    {
     "name": "stdout",
     "output_type": "stream",
     "text": [
      "<class 'pandas.core.frame.DataFrame'>\n",
      "RangeIndex: 42118 entries, 0 to 42117\n",
      "Data columns (total 19 columns):\n",
      " #   Column           Non-Null Count  Dtype         \n",
      "---  ------           --------------  -----         \n",
      " 0   game_id          42118 non-null  object        \n",
      " 1   game_date        42118 non-null  datetime64[ns]\n",
      " 2   Team_Abbrev      42118 non-null  object        \n",
      " 3   Team_Score       42118 non-null  int64         \n",
      " 4   Inactives        42091 non-null  object        \n",
      " 5   Opponent_Abbrev  42118 non-null  object        \n",
      " 6   Opponent_Score   42118 non-null  int64         \n",
      " 7   player           42118 non-null  object        \n",
      " 8   player_id        42118 non-null  object        \n",
      " 9   mp               42118 non-null  object        \n",
      " 10  trb              42118 non-null  int64         \n",
      " 11  ast              42118 non-null  int64         \n",
      " 12  pts              42118 non-null  int64         \n",
      " 13  plus_minus       42118 non-null  int64         \n",
      " 14  did_not_play     42118 non-null  int64         \n",
      " 15  is_inactive      42118 non-null  int64         \n",
      " 16  usg_pct          42118 non-null  float64       \n",
      " 17  season           42118 non-null  int64         \n",
      " 18  minutes          42118 non-null  float64       \n",
      "dtypes: datetime64[ns](1), float64(2), int64(9), object(7)\n",
      "memory usage: 6.1+ MB\n"
     ]
    }
   ],
   "source": [
    "raw_analysis.info()"
   ]
  },
  {
   "cell_type": "code",
   "execution_count": 20,
   "id": "12f179a5",
   "metadata": {},
   "outputs": [],
   "source": [
    "# raw_analysis['mp'] = pd.to_datetime(raw_analysis[\"mp\"].dt.strftime('%M:%S'))"
   ]
  },
  {
   "cell_type": "code",
   "execution_count": 21,
   "id": "f3b22c11",
   "metadata": {},
   "outputs": [],
   "source": [
    "raw_analysis['mp']=pd.to_datetime(raw_analysis['mp'],format='%M:%S').dt.time"
   ]
  },
  {
   "cell_type": "code",
   "execution_count": 22,
   "id": "359c3bf8",
   "metadata": {},
   "outputs": [],
   "source": [
    "# raw_data_df = pd.DataFrame(raw_analysis).set_index(['game_id', 'game_date'])"
   ]
  },
  {
   "cell_type": "code",
   "execution_count": 23,
   "id": "62e5e287",
   "metadata": {},
   "outputs": [],
   "source": [
    "raw_data_df = raw_analysis.groupby('game_id')"
   ]
  },
  {
   "cell_type": "code",
   "execution_count": 24,
   "id": "35b24e7e",
   "metadata": {},
   "outputs": [
    {
     "data": {
      "text/plain": [
       "<pandas.core.groupby.generic.DataFrameGroupBy object at 0x7fae21b70370>"
      ]
     },
     "execution_count": 24,
     "metadata": {},
     "output_type": "execute_result"
    }
   ],
   "source": [
    "raw_data_df"
   ]
  },
  {
   "cell_type": "code",
   "execution_count": 25,
   "id": "3131329b",
   "metadata": {},
   "outputs": [],
   "source": [
    "# d = raw_data_df.groupby('game_id')"
   ]
  },
  {
   "cell_type": "code",
   "execution_count": 26,
   "id": "30e4457b",
   "metadata": {},
   "outputs": [],
   "source": [
    "# d"
   ]
  },
  {
   "cell_type": "code",
   "execution_count": 27,
   "id": "934ad70a",
   "metadata": {},
   "outputs": [],
   "source": [
    "# for game_id, game_df in d:\n",
    "# #     print(game_id)\n",
    "#     print()\n",
    "#     print(game_df)\n",
    "#     print()"
   ]
  },
  {
   "cell_type": "code",
   "execution_count": 28,
   "id": "93f28f59",
   "metadata": {},
   "outputs": [],
   "source": [
    "# for game_id, game_df in raw_data_df:\n",
    "# #     print(game_id)\n",
    "#     print()\n",
    "#     print(game_df)\n",
    "#     print()"
   ]
  },
  {
   "cell_type": "code",
   "execution_count": 29,
   "id": "7fc79999",
   "metadata": {},
   "outputs": [],
   "source": [
    "# raw_analysis.to_csv('raw_data.csv')"
   ]
  },
  {
   "cell_type": "code",
   "execution_count": 30,
   "id": "7825034f",
   "metadata": {},
   "outputs": [],
   "source": [
    "raw_analysis.drop_duplicates(keep='last',inplace=True)"
   ]
  },
  {
   "cell_type": "code",
   "execution_count": 33,
   "id": "a69a4d34",
   "metadata": {},
   "outputs": [],
   "source": [
    "raw_analysis.to_csv('Resources/raw_data.csv')"
   ]
  },
  {
   "cell_type": "code",
   "execution_count": null,
   "id": "b76a9fa0",
   "metadata": {},
   "outputs": [],
   "source": [
    "# raw_analysis.set_index(['game_id', 'game_date'])"
   ]
  },
  {
   "cell_type": "code",
   "execution_count": null,
   "id": "7a8049ca",
   "metadata": {},
   "outputs": [],
   "source": []
  }
 ],
 "metadata": {
  "kernelspec": {
   "display_name": "Python 3 (ipykernel)",
   "language": "python",
   "name": "python3"
  },
  "language_info": {
   "codemirror_mode": {
    "name": "ipython",
    "version": 3
   },
   "file_extension": ".py",
   "mimetype": "text/x-python",
   "name": "python",
   "nbconvert_exporter": "python",
   "pygments_lexer": "ipython3",
   "version": "3.9.7"
  }
 },
 "nbformat": 4,
 "nbformat_minor": 5
}
